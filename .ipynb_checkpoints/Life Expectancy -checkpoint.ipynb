{
 "cells": [
  {
   "cell_type": "markdown",
   "metadata": {},
   "source": [
    "# Life Expectancy\n",
    "#### After testing with some datasets from kaggle i decided to build my own dataset.\n",
    "The data from kaggle was rubbish, not scaled right, incomprehensible, and most of the time it looked made-up.  \n",
    "The dataset i build contains:\n",
    " - Life expectancy\n",
    " - Education\n",
    " - GDP\n",
    " - BMI\n",
    " - happiness?\n",
    " - criminaliteit?\n",
    " - alcohol/drugs?\n",
    " - avg healtcare?\n",
    "   \n",
    "All This data is collected from:\n",
    " - data.world\n",
    " - worldbank.org\n",
    " - who.int\n",
    "\n",
    " "
   ]
  },
  {
   "cell_type": "markdown",
   "metadata": {},
   "source": [
    "## Imports"
   ]
  },
  {
   "cell_type": "code",
   "execution_count": 1,
   "metadata": {},
   "outputs": [],
   "source": [
    "import numpy as np\n",
    "import pandas as pd\n",
    "import seaborn as sns\n",
    "import matplotlib.pyplot as plt"
   ]
  },
  {
   "cell_type": "markdown",
   "metadata": {},
   "source": [
    "# Data exploration\n",
    "I will explore each dataset separately and merge them all in the end."
   ]
  },
  {
   "cell_type": "markdown",
   "metadata": {},
   "source": [
    "## First dataset: Life Expectancy\n",
    "this set contains the Life expectancy at birth in years per year"
   ]
  },
  {
   "cell_type": "code",
   "execution_count": 2,
   "metadata": {},
   "outputs": [],
   "source": [
    "df_le = pd.read_csv('DATA/Life_expectancy.csv', skiprows=4)"
   ]
  },
  {
   "cell_type": "code",
   "execution_count": 3,
   "metadata": {},
   "outputs": [
    {
     "name": "stdout",
     "output_type": "stream",
     "text": [
      "<class 'pandas.core.frame.DataFrame'>\n",
      "RangeIndex: 264 entries, 0 to 263\n",
      "Data columns (total 65 columns):\n",
      " #   Column          Non-Null Count  Dtype  \n",
      "---  ------          --------------  -----  \n",
      " 0   Country Name    264 non-null    object \n",
      " 1   Country Code    264 non-null    object \n",
      " 2   Indicator Name  264 non-null    object \n",
      " 3   Indicator Code  264 non-null    object \n",
      " 4   1960            235 non-null    float64\n",
      " 5   1961            236 non-null    float64\n",
      " 6   1962            236 non-null    float64\n",
      " 7   1963            235 non-null    float64\n",
      " 8   1964            235 non-null    float64\n",
      " 9   1965            236 non-null    float64\n",
      " 10  1966            236 non-null    float64\n",
      " 11  1967            236 non-null    float64\n",
      " 12  1968            236 non-null    float64\n",
      " 13  1969            236 non-null    float64\n",
      " 14  1970            237 non-null    float64\n",
      " 15  1971            236 non-null    float64\n",
      " 16  1972            236 non-null    float64\n",
      " 17  1973            237 non-null    float64\n",
      " 18  1974            236 non-null    float64\n",
      " 19  1975            236 non-null    float64\n",
      " 20  1976            236 non-null    float64\n",
      " 21  1977            236 non-null    float64\n",
      " 22  1978            238 non-null    float64\n",
      " 23  1979            237 non-null    float64\n",
      " 24  1980            239 non-null    float64\n",
      " 25  1981            239 non-null    float64\n",
      " 26  1982            242 non-null    float64\n",
      " 27  1983            240 non-null    float64\n",
      " 28  1984            240 non-null    float64\n",
      " 29  1985            240 non-null    float64\n",
      " 30  1986            241 non-null    float64\n",
      " 31  1987            244 non-null    float64\n",
      " 32  1988            241 non-null    float64\n",
      " 33  1989            241 non-null    float64\n",
      " 34  1990            243 non-null    float64\n",
      " 35  1991            244 non-null    float64\n",
      " 36  1992            244 non-null    float64\n",
      " 37  1993            242 non-null    float64\n",
      " 38  1994            244 non-null    float64\n",
      " 39  1995            244 non-null    float64\n",
      " 40  1996            243 non-null    float64\n",
      " 41  1997            246 non-null    float64\n",
      " 42  1998            243 non-null    float64\n",
      " 43  1999            244 non-null    float64\n",
      " 44  2000            247 non-null    float64\n",
      " 45  2001            245 non-null    float64\n",
      " 46  2002            248 non-null    float64\n",
      " 47  2003            245 non-null    float64\n",
      " 48  2004            245 non-null    float64\n",
      " 49  2005            246 non-null    float64\n",
      " 50  2006            246 non-null    float64\n",
      " 51  2007            247 non-null    float64\n",
      " 52  2008            247 non-null    float64\n",
      " 53  2009            247 non-null    float64\n",
      " 54  2010            246 non-null    float64\n",
      " 55  2011            246 non-null    float64\n",
      " 56  2012            248 non-null    float64\n",
      " 57  2013            246 non-null    float64\n",
      " 58  2014            247 non-null    float64\n",
      " 59  2015            247 non-null    float64\n",
      " 60  2016            247 non-null    float64\n",
      " 61  2017            245 non-null    float64\n",
      " 62  2018            244 non-null    float64\n",
      " 63  2019            0 non-null      float64\n",
      " 64  2020            0 non-null      float64\n",
      "dtypes: float64(61), object(4)\n",
      "memory usage: 134.2+ KB\n"
     ]
    }
   ],
   "source": [
    "df_le.info()"
   ]
  },
  {
   "cell_type": "markdown",
   "metadata": {},
   "source": [
    "I will drop the rows for 2019 and 2020 because they are completely empty.  \n",
    "I will drop the columns of Indicator Name and Indicator Code to becous the don't have any significant value."
   ]
  },
  {
   "cell_type": "code",
   "execution_count": 4,
   "metadata": {},
   "outputs": [],
   "source": [
    "df_le.drop([\"2019\", \"2020\", 'Indicator Name', 'Indicator Code'], axis=1, inplace=True)"
   ]
  },
  {
   "cell_type": "code",
   "execution_count": 5,
   "metadata": {},
   "outputs": [],
   "source": [
    "df_le = df_le.melt(id_vars=[\"Country Code\", 'Country Name'])\n",
    "df_le.rename(columns={'variable': 'Year', 'Country Name': 'Country', 'value': 'Life Expectancy'}, inplace=True)"
   ]
  },
  {
   "cell_type": "code",
   "execution_count": 6,
   "metadata": {},
   "outputs": [
    {
     "data": {
      "text/html": [
       "<div>\n",
       "<style scoped>\n",
       "    .dataframe tbody tr th:only-of-type {\n",
       "        vertical-align: middle;\n",
       "    }\n",
       "\n",
       "    .dataframe tbody tr th {\n",
       "        vertical-align: top;\n",
       "    }\n",
       "\n",
       "    .dataframe thead th {\n",
       "        text-align: right;\n",
       "    }\n",
       "</style>\n",
       "<table border=\"1\" class=\"dataframe\">\n",
       "  <thead>\n",
       "    <tr style=\"text-align: right;\">\n",
       "      <th></th>\n",
       "      <th>Country Code</th>\n",
       "      <th>Country</th>\n",
       "      <th>Year</th>\n",
       "      <th>Life Expectancy</th>\n",
       "    </tr>\n",
       "  </thead>\n",
       "  <tbody>\n",
       "    <tr>\n",
       "      <th>0</th>\n",
       "      <td>ABW</td>\n",
       "      <td>Aruba</td>\n",
       "      <td>1960</td>\n",
       "      <td>65.662</td>\n",
       "    </tr>\n",
       "    <tr>\n",
       "      <th>1</th>\n",
       "      <td>AFG</td>\n",
       "      <td>Afghanistan</td>\n",
       "      <td>1960</td>\n",
       "      <td>32.446</td>\n",
       "    </tr>\n",
       "    <tr>\n",
       "      <th>2</th>\n",
       "      <td>AGO</td>\n",
       "      <td>Angola</td>\n",
       "      <td>1960</td>\n",
       "      <td>37.524</td>\n",
       "    </tr>\n",
       "    <tr>\n",
       "      <th>3</th>\n",
       "      <td>ALB</td>\n",
       "      <td>Albania</td>\n",
       "      <td>1960</td>\n",
       "      <td>62.283</td>\n",
       "    </tr>\n",
       "    <tr>\n",
       "      <th>4</th>\n",
       "      <td>AND</td>\n",
       "      <td>Andorra</td>\n",
       "      <td>1960</td>\n",
       "      <td>NaN</td>\n",
       "    </tr>\n",
       "  </tbody>\n",
       "</table>\n",
       "</div>"
      ],
      "text/plain": [
       "  Country Code      Country  Year  Life Expectancy\n",
       "0          ABW        Aruba  1960           65.662\n",
       "1          AFG  Afghanistan  1960           32.446\n",
       "2          AGO       Angola  1960           37.524\n",
       "3          ALB      Albania  1960           62.283\n",
       "4          AND      Andorra  1960              NaN"
      ]
     },
     "execution_count": 6,
     "metadata": {},
     "output_type": "execute_result"
    }
   ],
   "source": [
    "df_le.head()"
   ]
  },
  {
   "cell_type": "code",
   "execution_count": 7,
   "metadata": {},
   "outputs": [],
   "source": [
    "df_wld = df_le[df_le['Country Code']=='WLD']"
   ]
  },
  {
   "cell_type": "code",
   "execution_count": 8,
   "metadata": {},
   "outputs": [
    {
     "data": {
      "image/png": "[encoded data removed]",
      "text/plain": [
       "<Figure size 864x432 with 1 Axes>"
      ]
     },
     "metadata": {
      "needs_background": "light"
     },
     "output_type": "display_data"
    }
   ],
   "source": [
    "plt.figure(figsize=(12,6))\n",
    "sns.histplot(df_wld, bins=20, kde=True)\n",
    "plt.legend(labels=['Wolrd life expectancy','KDE Wolrd life expectancy'], bbox_to_anchor=(1.3, 0.5))\n",
    "plt.grid(axis='y')"
   ]
  },
  {
   "cell_type": "markdown",
   "metadata": {},
   "source": [
    "### Nan value's in the dataset\n",
    "Let's look at the amount of nan in the set.  "
   ]
  },
  {
   "cell_type": "code",
   "execution_count": 9,
   "metadata": {},
   "outputs": [
    {
     "name": "stdout",
     "output_type": "stream",
     "text": [
      "Empty values in the dataset: 1331\n",
      "% of empty values in the dataset: 8.55\n"
     ]
    }
   ],
   "source": [
    "print('Empty values in the dataset: ' + str((df_le.isnull().values.ravel().sum())))\n",
    "print('% of empty values in the dataset: ' + str(round((df_le.isnull().values.ravel().sum()/len(df_le)*100),2)))"
   ]
  },
  {
   "cell_type": "markdown",
   "metadata": {},
   "source": [
    "There are 1331 empty values in the Life Expectancy column.  \n",
    "It looks like there is 8.5% data missing."
   ]
  },
  {
   "cell_type": "markdown",
   "metadata": {},
   "source": [
    "## Second dataset: Education\n",
    "This dataset shows 4 different mesurmenst of education in a country:\n",
    "- Government expenditure on education as % of GDP (%)\n",
    "- Gross enrolment ratio, primary, female (%)\n",
    "- Gross enrolment ratio, primary, gender parity index (GPI)\n",
    "- Out-of-school children of primary school age, both sexes (number)\n",
    "\n",
    "\n",
    "#### Gross enrolment ratio, primary, female\n",
    "Total female enrollment in primary and secondary education, regardless of age, expressed as a percentage of the total female population of official primary and secondary education age. GER can exceed 100% due to the inclusion of over-aged and under-aged students because of early or late school entrance and grade repetition.\n",
    "#### Gross enrolment ratio, primary, gender parity index\n",
    "Ratio of female gross enrolment ratio for primary to tertiary to the male value for the same indicator. It is calculated by dividing the female value for the indicator by the male value for the indicator. A GPI equal to 1 indicates parity between females and males. In general, a value less than 1 indicates disparity in favor of males and a value greater than 1 indicates disparity in favor of females."
   ]
  },
  {
   "cell_type": "code",
   "execution_count": 10,
   "metadata": {},
   "outputs": [],
   "source": [
    "df_edu = pd.read_csv('DATA/Education.csv', skipfooter=5, engine='python')\n",
    "df_edu.drop([\"2019\", \"2020\"], axis=1, inplace=True)"
   ]
  },
  {
   "cell_type": "code",
   "execution_count": 11,
   "metadata": {},
   "outputs": [
    {
     "name": "stdout",
     "output_type": "stream",
     "text": [
      "<class 'pandas.core.frame.DataFrame'>\n",
      "RangeIndex: 1072 entries, 0 to 1071\n",
      "Data columns (total 34 columns):\n",
      " #   Column           Non-Null Count  Dtype \n",
      "---  ------           --------------  ----- \n",
      " 0   ï»¿Country Name  1072 non-null   object\n",
      " 1   Series           1072 non-null   object\n",
      " 2   1987             1072 non-null   object\n",
      " 3   1988             1072 non-null   object\n",
      " 4   1989             1072 non-null   object\n",
      " 5   1990             1072 non-null   object\n",
      " 6   1991             1072 non-null   object\n",
      " 7   1992             1072 non-null   object\n",
      " 8   1993             1072 non-null   object\n",
      " 9   1994             1072 non-null   object\n",
      " 10  1995             1072 non-null   object\n",
      " 11  1996             1072 non-null   object\n",
      " 12  1997             1072 non-null   object\n",
      " 13  1998             1072 non-null   object\n",
      " 14  1999             1072 non-null   object\n",
      " 15  2000             1072 non-null   object\n",
      " 16  2001             1072 non-null   object\n",
      " 17  2002             1072 non-null   object\n",
      " 18  2003             1072 non-null   object\n",
      " 19  2004             1072 non-null   object\n",
      " 20  2005             1072 non-null   object\n",
      " 21  2006             1072 non-null   object\n",
      " 22  2007             1072 non-null   object\n",
      " 23  2008             1072 non-null   object\n",
      " 24  2009             1072 non-null   object\n",
      " 25  2010             1072 non-null   object\n",
      " 26  2011             1072 non-null   object\n",
      " 27  2012             1072 non-null   object\n",
      " 28  2013             1072 non-null   object\n",
      " 29  2014             1072 non-null   object\n",
      " 30  2015             1072 non-null   object\n",
      " 31  2016             1072 non-null   object\n",
      " 32  2017             1072 non-null   object\n",
      " 33  2018             1072 non-null   object\n",
      "dtypes: object(34)\n",
      "memory usage: 284.9+ KB\n"
     ]
    }
   ],
   "source": [
    "df_edu.info()"
   ]
  },
  {
   "cell_type": "code",
   "execution_count": 12,
   "metadata": {},
   "outputs": [],
   "source": [
    "df_edu = df_edu.melt(id_vars=[\"ï»¿Country Name\", 'Series'])"
   ]
  },
  {
   "cell_type": "code",
   "execution_count": 13,
   "metadata": {},
   "outputs": [],
   "source": [
    "df_edu.rename(columns={'variable': 'Year', 'ï»¿Country Name': 'Country'}, inplace=True)\n",
    "df_edu.replace('..',np.NaN, inplace=True)\n",
    "df_edu['value'] = df_edu['value'].astype(float)\n",
    "df_edu['Year'] = df_edu['Year'].astype(int)"
   ]
  },
  {
   "cell_type": "code",
   "execution_count": 14,
   "metadata": {},
   "outputs": [],
   "source": [
    "df_edu = df_edu.pivot(index=['Country','Year'], columns='Series', values='value').reset_index()"
   ]
  },
  {
   "cell_type": "code",
   "execution_count": 15,
   "metadata": {},
   "outputs": [
    {
     "name": "stdout",
     "output_type": "stream",
     "text": [
      "<class 'pandas.core.frame.DataFrame'>\n",
      "RangeIndex: 8576 entries, 0 to 8575\n",
      "Data columns (total 6 columns):\n",
      " #   Column                                                             Non-Null Count  Dtype  \n",
      "---  ------                                                             --------------  -----  \n",
      " 0   Country                                                            8576 non-null   object \n",
      " 1   Year                                                               8576 non-null   int64  \n",
      " 2   Government expenditure on education as % of GDP (%)                3377 non-null   float64\n",
      " 3   Gross enrolment ratio, primary, female (%)                         6382 non-null   float64\n",
      " 4   Gross enrolment ratio, primary, gender parity index (GPI)          6382 non-null   float64\n",
      " 5   Out-of-school children of primary school age, both sexes (number)  4822 non-null   float64\n",
      "dtypes: float64(4), int64(1), object(1)\n",
      "memory usage: 402.1+ KB\n"
     ]
    }
   ],
   "source": [
    "df_edu.info()"
   ]
  },
  {
   "cell_type": "code",
   "execution_count": 33,
   "metadata": {},
   "outputs": [
    {
     "data": {
      "text/html": [
       "<div>\n",
       "<style scoped>\n",
       "    .dataframe tbody tr th:only-of-type {\n",
       "        vertical-align: middle;\n",
       "    }\n",
       "\n",
       "    .dataframe tbody tr th {\n",
       "        vertical-align: top;\n",
       "    }\n",
       "\n",
       "    .dataframe thead th {\n",
       "        text-align: right;\n",
       "    }\n",
       "</style>\n",
       "<table border=\"1\" class=\"dataframe\">\n",
       "  <thead>\n",
       "    <tr style=\"text-align: right;\">\n",
       "      <th>Series</th>\n",
       "      <th>Country</th>\n",
       "      <th>Year</th>\n",
       "      <th>Government expenditure on education as % of GDP (%)</th>\n",
       "      <th>Gross enrolment ratio, primary, female (%)</th>\n",
       "      <th>Gross enrolment ratio, primary, gender parity index (GPI)</th>\n",
       "      <th>Out-of-school children of primary school age, both sexes (number)</th>\n",
       "    </tr>\n",
       "  </thead>\n",
       "  <tbody>\n",
       "    <tr>\n",
       "      <th>8448</th>\n",
       "      <td>World</td>\n",
       "      <td>1987</td>\n",
       "      <td>NaN</td>\n",
       "      <td>92.38936</td>\n",
       "      <td>0.87127</td>\n",
       "      <td>105956585.0</td>\n",
       "    </tr>\n",
       "    <tr>\n",
       "      <th>8449</th>\n",
       "      <td>World</td>\n",
       "      <td>1988</td>\n",
       "      <td>NaN</td>\n",
       "      <td>93.11169</td>\n",
       "      <td>0.87449</td>\n",
       "      <td>102932829.0</td>\n",
       "    </tr>\n",
       "    <tr>\n",
       "      <th>8450</th>\n",
       "      <td>World</td>\n",
       "      <td>1989</td>\n",
       "      <td>NaN</td>\n",
       "      <td>93.40487</td>\n",
       "      <td>0.87658</td>\n",
       "      <td>100160732.0</td>\n",
       "    </tr>\n",
       "    <tr>\n",
       "      <th>8451</th>\n",
       "      <td>World</td>\n",
       "      <td>1990</td>\n",
       "      <td>NaN</td>\n",
       "      <td>93.37215</td>\n",
       "      <td>0.88177</td>\n",
       "      <td>101727934.0</td>\n",
       "    </tr>\n",
       "    <tr>\n",
       "      <th>8452</th>\n",
       "      <td>World</td>\n",
       "      <td>1991</td>\n",
       "      <td>NaN</td>\n",
       "      <td>93.19520</td>\n",
       "      <td>0.88989</td>\n",
       "      <td>102124924.0</td>\n",
       "    </tr>\n",
       "    <tr>\n",
       "      <th>8453</th>\n",
       "      <td>World</td>\n",
       "      <td>1992</td>\n",
       "      <td>NaN</td>\n",
       "      <td>92.94323</td>\n",
       "      <td>0.89617</td>\n",
       "      <td>105376285.0</td>\n",
       "    </tr>\n",
       "    <tr>\n",
       "      <th>8454</th>\n",
       "      <td>World</td>\n",
       "      <td>1993</td>\n",
       "      <td>NaN</td>\n",
       "      <td>93.16222</td>\n",
       "      <td>0.90169</td>\n",
       "      <td>106411719.0</td>\n",
       "    </tr>\n",
       "    <tr>\n",
       "      <th>8455</th>\n",
       "      <td>World</td>\n",
       "      <td>1994</td>\n",
       "      <td>NaN</td>\n",
       "      <td>93.28868</td>\n",
       "      <td>0.90571</td>\n",
       "      <td>107973043.0</td>\n",
       "    </tr>\n",
       "    <tr>\n",
       "      <th>8456</th>\n",
       "      <td>World</td>\n",
       "      <td>1995</td>\n",
       "      <td>NaN</td>\n",
       "      <td>93.47359</td>\n",
       "      <td>0.90784</td>\n",
       "      <td>111890030.0</td>\n",
       "    </tr>\n",
       "    <tr>\n",
       "      <th>8457</th>\n",
       "      <td>World</td>\n",
       "      <td>1996</td>\n",
       "      <td>NaN</td>\n",
       "      <td>92.87551</td>\n",
       "      <td>0.91013</td>\n",
       "      <td>115258798.0</td>\n",
       "    </tr>\n",
       "    <tr>\n",
       "      <th>8458</th>\n",
       "      <td>World</td>\n",
       "      <td>1997</td>\n",
       "      <td>NaN</td>\n",
       "      <td>92.66620</td>\n",
       "      <td>0.91558</td>\n",
       "      <td>116011915.0</td>\n",
       "    </tr>\n",
       "    <tr>\n",
       "      <th>8459</th>\n",
       "      <td>World</td>\n",
       "      <td>1998</td>\n",
       "      <td>NaN</td>\n",
       "      <td>93.43028</td>\n",
       "      <td>0.91813</td>\n",
       "      <td>111513519.0</td>\n",
       "    </tr>\n",
       "    <tr>\n",
       "      <th>8460</th>\n",
       "      <td>World</td>\n",
       "      <td>1999</td>\n",
       "      <td>4.185720</td>\n",
       "      <td>93.90964</td>\n",
       "      <td>0.92271</td>\n",
       "      <td>104847421.0</td>\n",
       "    </tr>\n",
       "    <tr>\n",
       "      <th>8461</th>\n",
       "      <td>World</td>\n",
       "      <td>2000</td>\n",
       "      <td>3.948920</td>\n",
       "      <td>94.74893</td>\n",
       "      <td>0.92349</td>\n",
       "      <td>99151978.0</td>\n",
       "    </tr>\n",
       "    <tr>\n",
       "      <th>8462</th>\n",
       "      <td>World</td>\n",
       "      <td>2001</td>\n",
       "      <td>4.091930</td>\n",
       "      <td>95.78657</td>\n",
       "      <td>0.92854</td>\n",
       "      <td>95128297.0</td>\n",
       "    </tr>\n",
       "    <tr>\n",
       "      <th>8463</th>\n",
       "      <td>World</td>\n",
       "      <td>2002</td>\n",
       "      <td>4.017320</td>\n",
       "      <td>96.16283</td>\n",
       "      <td>0.93056</td>\n",
       "      <td>92033190.0</td>\n",
       "    </tr>\n",
       "    <tr>\n",
       "      <th>8464</th>\n",
       "      <td>World</td>\n",
       "      <td>2003</td>\n",
       "      <td>4.167935</td>\n",
       "      <td>98.76559</td>\n",
       "      <td>0.95079</td>\n",
       "      <td>82168677.0</td>\n",
       "    </tr>\n",
       "    <tr>\n",
       "      <th>8465</th>\n",
       "      <td>World</td>\n",
       "      <td>2004</td>\n",
       "      <td>4.030890</td>\n",
       "      <td>99.29935</td>\n",
       "      <td>0.95182</td>\n",
       "      <td>76369943.0</td>\n",
       "    </tr>\n",
       "    <tr>\n",
       "      <th>8466</th>\n",
       "      <td>World</td>\n",
       "      <td>2005</td>\n",
       "      <td>4.130030</td>\n",
       "      <td>99.74496</td>\n",
       "      <td>0.95437</td>\n",
       "      <td>71044565.0</td>\n",
       "    </tr>\n",
       "    <tr>\n",
       "      <th>8467</th>\n",
       "      <td>World</td>\n",
       "      <td>2006</td>\n",
       "      <td>4.192345</td>\n",
       "      <td>100.06085</td>\n",
       "      <td>0.95856</td>\n",
       "      <td>69490376.0</td>\n",
       "    </tr>\n",
       "    <tr>\n",
       "      <th>8468</th>\n",
       "      <td>World</td>\n",
       "      <td>2007</td>\n",
       "      <td>4.237165</td>\n",
       "      <td>100.94464</td>\n",
       "      <td>0.96086</td>\n",
       "      <td>60571468.0</td>\n",
       "    </tr>\n",
       "    <tr>\n",
       "      <th>8469</th>\n",
       "      <td>World</td>\n",
       "      <td>2008</td>\n",
       "      <td>4.406205</td>\n",
       "      <td>101.67833</td>\n",
       "      <td>0.96773</td>\n",
       "      <td>59655714.0</td>\n",
       "    </tr>\n",
       "    <tr>\n",
       "      <th>8470</th>\n",
       "      <td>World</td>\n",
       "      <td>2009</td>\n",
       "      <td>4.749655</td>\n",
       "      <td>101.82024</td>\n",
       "      <td>0.97242</td>\n",
       "      <td>60494720.0</td>\n",
       "    </tr>\n",
       "    <tr>\n",
       "      <th>8471</th>\n",
       "      <td>World</td>\n",
       "      <td>2010</td>\n",
       "      <td>4.622390</td>\n",
       "      <td>101.79062</td>\n",
       "      <td>0.97455</td>\n",
       "      <td>60389256.0</td>\n",
       "    </tr>\n",
       "    <tr>\n",
       "      <th>8472</th>\n",
       "      <td>World</td>\n",
       "      <td>2011</td>\n",
       "      <td>4.492980</td>\n",
       "      <td>102.25396</td>\n",
       "      <td>0.97698</td>\n",
       "      <td>60620757.0</td>\n",
       "    </tr>\n",
       "    <tr>\n",
       "      <th>8473</th>\n",
       "      <td>World</td>\n",
       "      <td>2012</td>\n",
       "      <td>4.614655</td>\n",
       "      <td>103.12288</td>\n",
       "      <td>0.98059</td>\n",
       "      <td>58672297.0</td>\n",
       "    </tr>\n",
       "    <tr>\n",
       "      <th>8474</th>\n",
       "      <td>World</td>\n",
       "      <td>2013</td>\n",
       "      <td>4.735710</td>\n",
       "      <td>103.90024</td>\n",
       "      <td>0.99779</td>\n",
       "      <td>57102651.0</td>\n",
       "    </tr>\n",
       "    <tr>\n",
       "      <th>8475</th>\n",
       "      <td>World</td>\n",
       "      <td>2014</td>\n",
       "      <td>4.900425</td>\n",
       "      <td>102.65799</td>\n",
       "      <td>0.99780</td>\n",
       "      <td>56900690.0</td>\n",
       "    </tr>\n",
       "    <tr>\n",
       "      <th>8476</th>\n",
       "      <td>World</td>\n",
       "      <td>2015</td>\n",
       "      <td>NaN</td>\n",
       "      <td>102.41614</td>\n",
       "      <td>0.99949</td>\n",
       "      <td>58243450.0</td>\n",
       "    </tr>\n",
       "    <tr>\n",
       "      <th>8477</th>\n",
       "      <td>World</td>\n",
       "      <td>2016</td>\n",
       "      <td>NaN</td>\n",
       "      <td>104.32732</td>\n",
       "      <td>1.00767</td>\n",
       "      <td>57332543.0</td>\n",
       "    </tr>\n",
       "    <tr>\n",
       "      <th>8478</th>\n",
       "      <td>World</td>\n",
       "      <td>2017</td>\n",
       "      <td>NaN</td>\n",
       "      <td>103.91949</td>\n",
       "      <td>1.00427</td>\n",
       "      <td>57409274.0</td>\n",
       "    </tr>\n",
       "    <tr>\n",
       "      <th>8479</th>\n",
       "      <td>World</td>\n",
       "      <td>2018</td>\n",
       "      <td>NaN</td>\n",
       "      <td>100.16580</td>\n",
       "      <td>0.98104</td>\n",
       "      <td>58075853.0</td>\n",
       "    </tr>\n",
       "  </tbody>\n",
       "</table>\n",
       "</div>"
      ],
      "text/plain": [
       "Series Country  Year  Government expenditure on education as % of GDP (%)  \\\n",
       "8448     World  1987                                                NaN     \n",
       "8449     World  1988                                                NaN     \n",
       "8450     World  1989                                                NaN     \n",
       "8451     World  1990                                                NaN     \n",
       "8452     World  1991                                                NaN     \n",
       "8453     World  1992                                                NaN     \n",
       "8454     World  1993                                                NaN     \n",
       "8455     World  1994                                                NaN     \n",
       "8456     World  1995                                                NaN     \n",
       "8457     World  1996                                                NaN     \n",
       "8458     World  1997                                                NaN     \n",
       "8459     World  1998                                                NaN     \n",
       "8460     World  1999                                           4.185720     \n",
       "8461     World  2000                                           3.948920     \n",
       "8462     World  2001                                           4.091930     \n",
       "8463     World  2002                                           4.017320     \n",
       "8464     World  2003                                           4.167935     \n",
       "8465     World  2004                                           4.030890     \n",
       "8466     World  2005                                           4.130030     \n",
       "8467     World  2006                                           4.192345     \n",
       "8468     World  2007                                           4.237165     \n",
       "8469     World  2008                                           4.406205     \n",
       "8470     World  2009                                           4.749655     \n",
       "8471     World  2010                                           4.622390     \n",
       "8472     World  2011                                           4.492980     \n",
       "8473     World  2012                                           4.614655     \n",
       "8474     World  2013                                           4.735710     \n",
       "8475     World  2014                                           4.900425     \n",
       "8476     World  2015                                                NaN     \n",
       "8477     World  2016                                                NaN     \n",
       "8478     World  2017                                                NaN     \n",
       "8479     World  2018                                                NaN     \n",
       "\n",
       "Series  Gross enrolment ratio, primary, female (%)  \\\n",
       "8448                                      92.38936   \n",
       "8449                                      93.11169   \n",
       "8450                                      93.40487   \n",
       "8451                                      93.37215   \n",
       "8452                                      93.19520   \n",
       "8453                                      92.94323   \n",
       "8454                                      93.16222   \n",
       "8455                                      93.28868   \n",
       "8456                                      93.47359   \n",
       "8457                                      92.87551   \n",
       "8458                                      92.66620   \n",
       "8459                                      93.43028   \n",
       "8460                                      93.90964   \n",
       "8461                                      94.74893   \n",
       "8462                                      95.78657   \n",
       "8463                                      96.16283   \n",
       "8464                                      98.76559   \n",
       "8465                                      99.29935   \n",
       "8466                                      99.74496   \n",
       "8467                                     100.06085   \n",
       "8468                                     100.94464   \n",
       "8469                                     101.67833   \n",
       "8470                                     101.82024   \n",
       "8471                                     101.79062   \n",
       "8472                                     102.25396   \n",
       "8473                                     103.12288   \n",
       "8474                                     103.90024   \n",
       "8475                                     102.65799   \n",
       "8476                                     102.41614   \n",
       "8477                                     104.32732   \n",
       "8478                                     103.91949   \n",
       "8479                                     100.16580   \n",
       "\n",
       "Series  Gross enrolment ratio, primary, gender parity index (GPI)  \\\n",
       "8448                                              0.87127           \n",
       "8449                                              0.87449           \n",
       "8450                                              0.87658           \n",
       "8451                                              0.88177           \n",
       "8452                                              0.88989           \n",
       "8453                                              0.89617           \n",
       "8454                                              0.90169           \n",
       "8455                                              0.90571           \n",
       "8456                                              0.90784           \n",
       "8457                                              0.91013           \n",
       "8458                                              0.91558           \n",
       "8459                                              0.91813           \n",
       "8460                                              0.92271           \n",
       "8461                                              0.92349           \n",
       "8462                                              0.92854           \n",
       "8463                                              0.93056           \n",
       "8464                                              0.95079           \n",
       "8465                                              0.95182           \n",
       "8466                                              0.95437           \n",
       "8467                                              0.95856           \n",
       "8468                                              0.96086           \n",
       "8469                                              0.96773           \n",
       "8470                                              0.97242           \n",
       "8471                                              0.97455           \n",
       "8472                                              0.97698           \n",
       "8473                                              0.98059           \n",
       "8474                                              0.99779           \n",
       "8475                                              0.99780           \n",
       "8476                                              0.99949           \n",
       "8477                                              1.00767           \n",
       "8478                                              1.00427           \n",
       "8479                                              0.98104           \n",
       "\n",
       "Series  Out-of-school children of primary school age, both sexes (number)  \n",
       "8448                                          105956585.0                  \n",
       "8449                                          102932829.0                  \n",
       "8450                                          100160732.0                  \n",
       "8451                                          101727934.0                  \n",
       "8452                                          102124924.0                  \n",
       "8453                                          105376285.0                  \n",
       "8454                                          106411719.0                  \n",
       "8455                                          107973043.0                  \n",
       "8456                                          111890030.0                  \n",
       "8457                                          115258798.0                  \n",
       "8458                                          116011915.0                  \n",
       "8459                                          111513519.0                  \n",
       "8460                                          104847421.0                  \n",
       "8461                                           99151978.0                  \n",
       "8462                                           95128297.0                  \n",
       "8463                                           92033190.0                  \n",
       "8464                                           82168677.0                  \n",
       "8465                                           76369943.0                  \n",
       "8466                                           71044565.0                  \n",
       "8467                                           69490376.0                  \n",
       "8468                                           60571468.0                  \n",
       "8469                                           59655714.0                  \n",
       "8470                                           60494720.0                  \n",
       "8471                                           60389256.0                  \n",
       "8472                                           60620757.0                  \n",
       "8473                                           58672297.0                  \n",
       "8474                                           57102651.0                  \n",
       "8475                                           56900690.0                  \n",
       "8476                                           58243450.0                  \n",
       "8477                                           57332543.0                  \n",
       "8478                                           57409274.0                  \n",
       "8479                                           58075853.0                  "
      ]
     },
     "execution_count": 33,
     "metadata": {},
     "output_type": "execute_result"
    }
   ],
   "source": [
    "df_temp = df_edu[(df_edu['Country']=='World')]\n",
    "df_temp"
   ]
  },
  {
   "cell_type": "code",
   "execution_count": 20,
   "metadata": {},
   "outputs": [
    {
     "data": {
      "image/png": "[encoded data removed]",
      "text/plain": [
       "<Figure size 1296x432 with 1 Axes>"
      ]
     },
     "metadata": {
      "needs_background": "light"
     },
     "output_type": "display_data"
    }
   ],
   "source": [
    "plt.figure(figsize=(18,6))\n",
    "sns.lineplot(data=df_temp, x='Year', y='Gross enrolment ratio, primary, female (%)', markers=True, dashes=False)\n",
    "plt.grid(axis='y')"
   ]
  },
  {
   "cell_type": "code",
   "execution_count": 21,
   "metadata": {},
   "outputs": [
    {
     "data": {
      "image/png": "[encoded data removed]",
      "text/plain": [
       "<Figure size 1296x432 with 1 Axes>"
      ]
     },
     "metadata": {
      "needs_background": "light"
     },
     "output_type": "display_data"
    }
   ],
   "source": [
    "plt.figure(figsize=(18,6))\n",
    "sns.lineplot(data=df_temp, x='Year', y='Gross enrolment ratio, primary, gender parity index (GPI)', markers=True, dashes=False)\n",
    "plt.grid(axis='y')"
   ]
  },
  {
   "cell_type": "code",
   "execution_count": 22,
   "metadata": {},
   "outputs": [
    {
     "data": {
      "image/png": "[encoded data removed]",
      "text/plain": [
       "<Figure size 1296x432 with 1 Axes>"
      ]
     },
     "metadata": {
      "needs_background": "light"
     },
     "output_type": "display_data"
    }
   ],
   "source": [
    "plt.figure(figsize=(18,6))\n",
    "sns.lineplot(data=df_temp, x='Year', y='Out-of-school children of primary school age, both sexes (number)', markers=True, dashes=False)\n",
    "plt.grid(axis='y')"
   ]
  },
  {
   "cell_type": "markdown",
   "metadata": {},
   "source": [
    "### Nan value's in the dataset\n",
    "Let's look at the amount of nan in the set.  "
   ]
  },
  {
   "cell_type": "code",
   "execution_count": 95,
   "metadata": {},
   "outputs": [
    {
     "name": "stdout",
     "output_type": "stream",
     "text": [
      "Empty values in the dataset: 13341\n",
      "% of empty values in the dataset: 25.93%\n"
     ]
    }
   ],
   "source": [
    "print('Empty values in the dataset: ' + str((df_edu.isna().values.sum())))\n",
    "print('% of empty values in the dataset: ' + str(round((df_edu.isna().values.sum()/df_edu.size*100),2)) + '%')"
   ]
  },
  {
   "cell_type": "markdown",
   "metadata": {},
   "source": [
    "There are 13341 empty values in the value column.  \n",
    "It looks like there is 25.93% data missing.  \n",
    "  \n",
    "Lets look at each missing value per serie"
   ]
  },
  {
   "cell_type": "code",
   "execution_count": 64,
   "metadata": {},
   "outputs": [],
   "source": [
    "df_edu_na = df_edu.isnull().sum(axis = 0)\n",
    "df_edu_na.drop(labels=['Country', 'Year'], inplace=True)"
   ]
  },
  {
   "cell_type": "code",
   "execution_count": 71,
   "metadata": {},
   "outputs": [
    {
     "data": {
      "image/png": "[encoded data removed]",
      "text/plain": [
       "<Figure size 864x432 with 1 Axes>"
      ]
     },
     "metadata": {
      "needs_background": "light"
     },
     "output_type": "display_data"
    }
   ],
   "source": [
    "plt.figure(figsize=(12,6))\n",
    "sns.barplot(x = df_edu_na.index, y = df_edu_na.values)\n",
    "plt.xticks(rotation=90)\n",
    "plt.grid(axis='y')\n",
    "plt.show()"
   ]
  },
  {
   "cell_type": "markdown",
   "metadata": {},
   "source": [
    "let's see which serie has the most missing data."
   ]
  },
  {
   "cell_type": "code",
   "execution_count": 79,
   "metadata": {},
   "outputs": [],
   "source": []
  },
  {
   "cell_type": "code",
   "execution_count": null,
   "metadata": {},
   "outputs": [],
   "source": []
  },
  {
   "cell_type": "markdown",
   "metadata": {},
   "source": [
    "## Third dataset: GDP\n",
    "This dataset shows the GDP per capita per country"
   ]
  },
  {
   "cell_type": "code",
   "execution_count": null,
   "metadata": {},
   "outputs": [],
   "source": [
    "df_GDP = pd.read_csv('DATA/GDP_PPP.csv', skiprows=4)"
   ]
  },
  {
   "cell_type": "code",
   "execution_count": null,
   "metadata": {},
   "outputs": [],
   "source": [
    "df_GDP.drop(['Indicator Name', 'Indicator Code', '2019', \"2020\"], axis=1, inplace=True)\n",
    "df_GDP.rename(columns={'Country Name': 'Country'}, inplace=True)\n",
    "df_GDP.info()"
   ]
  },
  {
   "cell_type": "code",
   "execution_count": null,
   "metadata": {},
   "outputs": [],
   "source": [
    "df_GDP.head()"
   ]
  },
  {
   "cell_type": "code",
   "execution_count": null,
   "metadata": {},
   "outputs": [],
   "source": [
    "df_GDP = df_GDP.melt(id_vars=[\"Country\", 'Country Code'], value_vars=['1960','1961','1962','1963','1964','1965',\n",
    " '1966','1967','1968','1969','1970', '1971', '1972', '1973', '1974', '1975', '1976', '1977', '1978', '1979', '1980',\n",
    " '1981', '1982', '1983', '1984', '1985', '1986', '1987', '1988', '1989', '1990', '1991', '1992', '1993', '1994', '1995', '1996',\n",
    " '1997', '1998', '1999', '2000', '2001', '2002', '2003', '2004', '2005', '2006', '2007', '2008', '2009', '2010', '2011', '2012',\n",
    " '2013', '2014', '2015', '2016', '2017', '2018'])\n",
    "df_GDP.rename(columns={'variable': 'Year', 'value': 'GDP'}, inplace=True)\n",
    "df_GDP.info()"
   ]
  },
  {
   "cell_type": "code",
   "execution_count": null,
   "metadata": {},
   "outputs": [],
   "source": [
    "data=df_GDP[df_GDP['Country']=='World']"
   ]
  },
  {
   "cell_type": "code",
   "execution_count": null,
   "metadata": {},
   "outputs": [],
   "source": [
    "plt.figure(figsize=(18,8), dpi=200)\n",
    "sns.lineplot(data=data, x='Year', y='GDP')\n",
    "plt.xticks(rotation=90)\n",
    "plt.grid(axis='y')\n",
    "plt.show()"
   ]
  },
  {
   "cell_type": "markdown",
   "metadata": {},
   "source": [
    "### Nan value's in the dataset\n",
    "Let's look at the amount of nan in the set.\n",
    "It looks like there is 21.9% data missing."
   ]
  },
  {
   "cell_type": "code",
   "execution_count": null,
   "metadata": {},
   "outputs": [],
   "source": [
    "round((df_GDP.isna().sum()['GDP']/len(df_GDP)*100), 2)"
   ]
  },
  {
   "cell_type": "markdown",
   "metadata": {},
   "source": [
    "Let's see what country has the most data missing."
   ]
  },
  {
   "cell_type": "code",
   "execution_count": null,
   "metadata": {},
   "outputs": [],
   "source": [
    "df_nan = df_GDP[df_GDP['GDP'].isna()]"
   ]
  },
  {
   "cell_type": "code",
   "execution_count": null,
   "metadata": {},
   "outputs": [],
   "source": [
    "df_nan[['GDP']].groupby(df_nan['Country']).agg(['count']).sum()"
   ]
  },
  {
   "cell_type": "code",
   "execution_count": null,
   "metadata": {},
   "outputs": [],
   "source": []
  }
 ],
 "metadata": {
  "kernelspec": {
   "display_name": "Python 3",
   "language": "python",
   "name": "python3"
  },
  "language_info": {
   "codemirror_mode": {
    "name": "ipython",
    "version": 3
   },
   "file_extension": ".py",
   "mimetype": "text/x-python",
   "name": "python",
   "nbconvert_exporter": "python",
   "pygments_lexer": "ipython3",
   "version": "3.7.9"
  }
 },
 "nbformat": 4,
 "nbformat_minor": 4
}

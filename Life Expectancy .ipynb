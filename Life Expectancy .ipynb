{
 "cells": [
  {
   "cell_type": "markdown",
   "metadata": {},
   "source": [
    "# Life Expectancy\n",
    "#### After testing with some datasets from kaggle i decided to build my own dataset.\n",
    "The data from kaggle was rubbish, not scaled right, incomprehensible, and most of the time it looked made-up.  \n",
    "The dataset i build contains:\n",
    " - Life expectancy\n",
    " - Education\n",
    " - GDP\n",
    " - BMI\n",
    " - happiness?\n",
    " - criminaliteit?\n",
    " - alcohol/drugs?\n",
    " - avg healtcare?\n",
    "   \n",
    "All This data is collected from:\n",
    " - data.world\n",
    " - worldbank.org\n",
    " - who.int\n",
    "\n",
    " "
   ]
  },
  {
   "cell_type": "markdown",
   "metadata": {},
   "source": [
    "## Imports"
   ]
  },
  {
   "cell_type": "code",
   "execution_count": 1,
   "metadata": {},
   "outputs": [],
   "source": [
    "\n",
    "import numpy as np\n",
    "import pandas as pd\n",
    "import seaborn as sns\n",
    "import matplotlib.pyplot as plt"
   ]
  },
  {
   "cell_type": "markdown",
   "metadata": {},
   "source": [
    "# Data exploration\n",
    "I will explore each dataset separately and merge them all in the end."
   ]
  },
  {
   "cell_type": "markdown",
   "metadata": {},
   "source": [
    "## First dataset: Life Expectancy\n",
    "this set contains the Life expectancy at birth in years per year"
   ]
  },
  {
   "cell_type": "code",
   "execution_count": 2,
   "metadata": {},
   "outputs": [],
   "source": [
    "df_le = pd.read_csv('DATA/Life_expectancy.csv', skiprows=4)"
   ]
  },
  {
   "cell_type": "code",
   "execution_count": 3,
   "metadata": {},
   "outputs": [
    {
     "name": "stdout",
     "output_type": "stream",
     "text": [
      "<class 'pandas.core.frame.DataFrame'>\n",
      "RangeIndex: 264 entries, 0 to 263\n",
      "Data columns (total 65 columns):\n",
      " #   Column          Non-Null Count  Dtype  \n",
      "---  ------          --------------  -----  \n",
      " 0   Country Name    264 non-null    object \n",
      " 1   Country Code    264 non-null    object \n",
      " 2   Indicator Name  264 non-null    object \n",
      " 3   Indicator Code  264 non-null    object \n",
      " 4   1960            235 non-null    float64\n",
      " 5   1961            236 non-null    float64\n",
      " 6   1962            236 non-null    float64\n",
      " 7   1963            235 non-null    float64\n",
      " 8   1964            235 non-null    float64\n",
      " 9   1965            236 non-null    float64\n",
      " 10  1966            236 non-null    float64\n",
      " 11  1967            236 non-null    float64\n",
      " 12  1968            236 non-null    float64\n",
      " 13  1969            236 non-null    float64\n",
      " 14  1970            237 non-null    float64\n",
      " 15  1971            236 non-null    float64\n",
      " 16  1972            236 non-null    float64\n",
      " 17  1973            237 non-null    float64\n",
      " 18  1974            236 non-null    float64\n",
      " 19  1975            236 non-null    float64\n",
      " 20  1976            236 non-null    float64\n",
      " 21  1977            236 non-null    float64\n",
      " 22  1978            238 non-null    float64\n",
      " 23  1979            237 non-null    float64\n",
      " 24  1980            239 non-null    float64\n",
      " 25  1981            239 non-null    float64\n",
      " 26  1982            242 non-null    float64\n",
      " 27  1983            240 non-null    float64\n",
      " 28  1984            240 non-null    float64\n",
      " 29  1985            240 non-null    float64\n",
      " 30  1986            241 non-null    float64\n",
      " 31  1987            244 non-null    float64\n",
      " 32  1988            241 non-null    float64\n",
      " 33  1989            241 non-null    float64\n",
      " 34  1990            243 non-null    float64\n",
      " 35  1991            244 non-null    float64\n",
      " 36  1992            244 non-null    float64\n",
      " 37  1993            242 non-null    float64\n",
      " 38  1994            244 non-null    float64\n",
      " 39  1995            244 non-null    float64\n",
      " 40  1996            243 non-null    float64\n",
      " 41  1997            246 non-null    float64\n",
      " 42  1998            243 non-null    float64\n",
      " 43  1999            244 non-null    float64\n",
      " 44  2000            247 non-null    float64\n",
      " 45  2001            245 non-null    float64\n",
      " 46  2002            248 non-null    float64\n",
      " 47  2003            245 non-null    float64\n",
      " 48  2004            245 non-null    float64\n",
      " 49  2005            246 non-null    float64\n",
      " 50  2006            246 non-null    float64\n",
      " 51  2007            247 non-null    float64\n",
      " 52  2008            247 non-null    float64\n",
      " 53  2009            247 non-null    float64\n",
      " 54  2010            246 non-null    float64\n",
      " 55  2011            246 non-null    float64\n",
      " 56  2012            248 non-null    float64\n",
      " 57  2013            246 non-null    float64\n",
      " 58  2014            247 non-null    float64\n",
      " 59  2015            247 non-null    float64\n",
      " 60  2016            247 non-null    float64\n",
      " 61  2017            245 non-null    float64\n",
      " 62  2018            244 non-null    float64\n",
      " 63  2019            0 non-null      float64\n",
      " 64  2020            0 non-null      float64\n",
      "dtypes: float64(61), object(4)\n",
      "memory usage: 134.2+ KB\n"
     ]
    }
   ],
   "source": [
    "df_le.info()"
   ]
  },
  {
   "cell_type": "markdown",
   "metadata": {},
   "source": [
    "I will drop the rows for 2019 and 2020 because they are completely empty.  \n",
    "I will drop the columns of Indicator Name and Indicator Code to becous the don't have any significant value."
   ]
  },
  {
   "cell_type": "code",
   "execution_count": 4,
   "metadata": {},
   "outputs": [],
   "source": [
    "df_le.drop([\"2019\", \"2020\", 'Indicator Name', 'Indicator Code'], axis=1, inplace=True)"
   ]
  },
  {
   "cell_type": "code",
   "execution_count": 5,
   "metadata": {},
   "outputs": [],
   "source": [
    "df_le = df_le.melt(id_vars=[\"Country Code\", 'Country Name'])\n",
    "df_le.rename(columns={'variable': 'Year', 'Country Name': 'Country', 'value': 'Life Expectancy'}, inplace=True)"
   ]
  },
  {
   "cell_type": "code",
   "execution_count": 6,
   "metadata": {},
   "outputs": [
    {
     "data": {
      "text/html": [
       "<div>\n",
       "<style scoped>\n",
       "    .dataframe tbody tr th:only-of-type {\n",
       "        vertical-align: middle;\n",
       "    }\n",
       "\n",
       "    .dataframe tbody tr th {\n",
       "        vertical-align: top;\n",
       "    }\n",
       "\n",
       "    .dataframe thead th {\n",
       "        text-align: right;\n",
       "    }\n",
       "</style>\n",
       "<table border=\"1\" class=\"dataframe\">\n",
       "  <thead>\n",
       "    <tr style=\"text-align: right;\">\n",
       "      <th></th>\n",
       "      <th>Country Code</th>\n",
       "      <th>Country</th>\n",
       "      <th>Year</th>\n",
       "      <th>Life Expectancy</th>\n",
       "    </tr>\n",
       "  </thead>\n",
       "  <tbody>\n",
       "    <tr>\n",
       "      <th>0</th>\n",
       "      <td>ABW</td>\n",
       "      <td>Aruba</td>\n",
       "      <td>1960</td>\n",
       "      <td>65.662</td>\n",
       "    </tr>\n",
       "    <tr>\n",
       "      <th>1</th>\n",
       "      <td>AFG</td>\n",
       "      <td>Afghanistan</td>\n",
       "      <td>1960</td>\n",
       "      <td>32.446</td>\n",
       "    </tr>\n",
       "    <tr>\n",
       "      <th>2</th>\n",
       "      <td>AGO</td>\n",
       "      <td>Angola</td>\n",
       "      <td>1960</td>\n",
       "      <td>37.524</td>\n",
       "    </tr>\n",
       "    <tr>\n",
       "      <th>3</th>\n",
       "      <td>ALB</td>\n",
       "      <td>Albania</td>\n",
       "      <td>1960</td>\n",
       "      <td>62.283</td>\n",
       "    </tr>\n",
       "    <tr>\n",
       "      <th>4</th>\n",
       "      <td>AND</td>\n",
       "      <td>Andorra</td>\n",
       "      <td>1960</td>\n",
       "      <td>NaN</td>\n",
       "    </tr>\n",
       "  </tbody>\n",
       "</table>\n",
       "</div>"
      ],
      "text/plain": [
       "  Country Code      Country  Year  Life Expectancy\n",
       "0          ABW        Aruba  1960           65.662\n",
       "1          AFG  Afghanistan  1960           32.446\n",
       "2          AGO       Angola  1960           37.524\n",
       "3          ALB      Albania  1960           62.283\n",
       "4          AND      Andorra  1960              NaN"
      ]
     },
     "execution_count": 6,
     "metadata": {},
     "output_type": "execute_result"
    }
   ],
   "source": [
    "df_le.head()"
   ]
  },
  {
   "cell_type": "code",
   "execution_count": 7,
   "metadata": {},
   "outputs": [],
   "source": [
    "df_wld = df_le[df_le['Country Code']=='WLD']"
   ]
  },
  {
   "cell_type": "code",
   "execution_count": 8,
   "metadata": {},
   "outputs": [
    {
     "data": {
      "image/png": "[encoded data removed]",
      "text/plain": [
       "<Figure size 864x432 with 1 Axes>"
      ]
     },
     "metadata": {
      "needs_background": "light"
     },
     "output_type": "display_data"
    }
   ],
   "source": [
    "plt.figure(figsize=(12,6))\n",
    "sns.histplot(df_wld, bins=20, kde=True)\n",
    "plt.legend(labels=['Wolrd life expectancy','KDE Wolrd life expectancy'], bbox_to_anchor=(1.3, 0.5))\n",
    "plt.grid(axis='y')"
   ]
  },
  {
   "cell_type": "markdown",
   "metadata": {},
   "source": [
    "### Nan value's in the dataset\n",
    "Let's look at the amount of nan in the set.  "
   ]
  },
  {
   "cell_type": "code",
   "execution_count": 81,
   "metadata": {},
   "outputs": [
    {
     "name": "stdout",
     "output_type": "stream",
     "text": [
      "empty values in the dataset: 1331\n",
      "% of empty values in the dataset: 8.55\n"
     ]
    }
   ],
   "source": [
    "print('empty values in the dataset: ' + str((df_le.isnull().values.ravel().sum())))\n",
    "print('% of empty values in the dataset: ' + str(round((df_le.isnull().values.ravel().sum()/len(df_le)*100),2)))"
   ]
  },
  {
   "cell_type": "markdown",
   "metadata": {},
   "source": [
    "There are 1331 empty values in the Life Expectancy column.  \n",
    "It looks like there is 8.5% data missing."
   ]
  },
  {
   "cell_type": "markdown",
   "metadata": {},
   "source": [
    "## Second dataset: Education\n",
    "This dataset shows 4 different mesurmenst of education in a country:\n",
    "- Government expenditure on education as % of GDP (%)\n",
    "- Gross enrolment ratio, primary, female (%)\n",
    "- Gross enrolment ratio, primary, gender parity index (GPI)\n",
    "- Out-of-school children of primary school age, both sexes (number)"
   ]
  },
  {
   "cell_type": "code",
   "execution_count": 84,
   "metadata": {},
   "outputs": [],
   "source": [
    "df_edu = pd.read_csv('DATA/Education.csv', skipfooter=5, engine='python')\n",
    "df_edu.drop([\"2019\", \"2020\"], axis=1, inplace=True)"
   ]
  },
  {
   "cell_type": "code",
   "execution_count": 85,
   "metadata": {},
   "outputs": [
    {
     "name": "stdout",
     "output_type": "stream",
     "text": [
      "<class 'pandas.core.frame.DataFrame'>\n",
      "RangeIndex: 1072 entries, 0 to 1071\n",
      "Data columns (total 34 columns):\n",
      " #   Column           Non-Null Count  Dtype \n",
      "---  ------           --------------  ----- \n",
      " 0   ï»¿Country Name  1072 non-null   object\n",
      " 1   Series           1072 non-null   object\n",
      " 2   1987             1072 non-null   object\n",
      " 3   1988             1072 non-null   object\n",
      " 4   1989             1072 non-null   object\n",
      " 5   1990             1072 non-null   object\n",
      " 6   1991             1072 non-null   object\n",
      " 7   1992             1072 non-null   object\n",
      " 8   1993             1072 non-null   object\n",
      " 9   1994             1072 non-null   object\n",
      " 10  1995             1072 non-null   object\n",
      " 11  1996             1072 non-null   object\n",
      " 12  1997             1072 non-null   object\n",
      " 13  1998             1072 non-null   object\n",
      " 14  1999             1072 non-null   object\n",
      " 15  2000             1072 non-null   object\n",
      " 16  2001             1072 non-null   object\n",
      " 17  2002             1072 non-null   object\n",
      " 18  2003             1072 non-null   object\n",
      " 19  2004             1072 non-null   object\n",
      " 20  2005             1072 non-null   object\n",
      " 21  2006             1072 non-null   object\n",
      " 22  2007             1072 non-null   object\n",
      " 23  2008             1072 non-null   object\n",
      " 24  2009             1072 non-null   object\n",
      " 25  2010             1072 non-null   object\n",
      " 26  2011             1072 non-null   object\n",
      " 27  2012             1072 non-null   object\n",
      " 28  2013             1072 non-null   object\n",
      " 29  2014             1072 non-null   object\n",
      " 30  2015             1072 non-null   object\n",
      " 31  2016             1072 non-null   object\n",
      " 32  2017             1072 non-null   object\n",
      " 33  2018             1072 non-null   object\n",
      "dtypes: object(34)\n",
      "memory usage: 284.9+ KB\n"
     ]
    }
   ],
   "source": [
    "df_edu.info()"
   ]
  },
  {
   "cell_type": "code",
   "execution_count": 86,
   "metadata": {},
   "outputs": [],
   "source": [
    "df_edu = df_edu.melt(id_vars=[\"ï»¿Country Name\", 'Series'])"
   ]
  },
  {
   "cell_type": "code",
   "execution_count": 87,
   "metadata": {},
   "outputs": [],
   "source": [
    "df_edu.rename(columns={'variable': 'Year', 'ï»¿Country Name': 'Country'}, inplace=True)\n",
    "df_edu.replace('..',np.NaN, inplace=True)\n",
    "df_edu['value'] = df_edu['value'].astype(float)\n",
    "df_edu['Year'] = df_edu['Year'].astype(int)"
   ]
  },
  {
   "cell_type": "code",
   "execution_count": 88,
   "metadata": {},
   "outputs": [
    {
     "name": "stdout",
     "output_type": "stream",
     "text": [
      "<class 'pandas.core.frame.DataFrame'>\n",
      "RangeIndex: 34304 entries, 0 to 34303\n",
      "Data columns (total 4 columns):\n",
      " #   Column   Non-Null Count  Dtype  \n",
      "---  ------   --------------  -----  \n",
      " 0   Country  34304 non-null  object \n",
      " 1   Series   34304 non-null  object \n",
      " 2   Year     34304 non-null  int32  \n",
      " 3   value    20963 non-null  float64\n",
      "dtypes: float64(1), int32(1), object(2)\n",
      "memory usage: 938.1+ KB\n"
     ]
    }
   ],
   "source": [
    "df_edu.info()"
   ]
  },
  {
   "cell_type": "code",
   "execution_count": 89,
   "metadata": {},
   "outputs": [
    {
     "data": {
      "text/html": [
       "<div>\n",
       "<style scoped>\n",
       "    .dataframe tbody tr th:only-of-type {\n",
       "        vertical-align: middle;\n",
       "    }\n",
       "\n",
       "    .dataframe tbody tr th {\n",
       "        vertical-align: top;\n",
       "    }\n",
       "\n",
       "    .dataframe thead th {\n",
       "        text-align: right;\n",
       "    }\n",
       "</style>\n",
       "<table border=\"1\" class=\"dataframe\">\n",
       "  <thead>\n",
       "    <tr style=\"text-align: right;\">\n",
       "      <th></th>\n",
       "      <th>Country</th>\n",
       "      <th>Series</th>\n",
       "      <th>Year</th>\n",
       "      <th>value</th>\n",
       "    </tr>\n",
       "  </thead>\n",
       "  <tbody>\n",
       "    <tr>\n",
       "      <th>0</th>\n",
       "      <td>Afghanistan</td>\n",
       "      <td>Government expenditure on education as % of GD...</td>\n",
       "      <td>1987</td>\n",
       "      <td>NaN</td>\n",
       "    </tr>\n",
       "    <tr>\n",
       "      <th>1</th>\n",
       "      <td>Afghanistan</td>\n",
       "      <td>Gross enrolment ratio, primary, female (%)</td>\n",
       "      <td>1987</td>\n",
       "      <td>NaN</td>\n",
       "    </tr>\n",
       "    <tr>\n",
       "      <th>2</th>\n",
       "      <td>Afghanistan</td>\n",
       "      <td>Gross enrolment ratio, primary, gender parity ...</td>\n",
       "      <td>1987</td>\n",
       "      <td>NaN</td>\n",
       "    </tr>\n",
       "    <tr>\n",
       "      <th>3</th>\n",
       "      <td>Afghanistan</td>\n",
       "      <td>Out-of-school children of primary school age, ...</td>\n",
       "      <td>1987</td>\n",
       "      <td>NaN</td>\n",
       "    </tr>\n",
       "    <tr>\n",
       "      <th>4</th>\n",
       "      <td>Albania</td>\n",
       "      <td>Government expenditure on education as % of GD...</td>\n",
       "      <td>1987</td>\n",
       "      <td>NaN</td>\n",
       "    </tr>\n",
       "    <tr>\n",
       "      <th>...</th>\n",
       "      <td>...</td>\n",
       "      <td>...</td>\n",
       "      <td>...</td>\n",
       "      <td>...</td>\n",
       "    </tr>\n",
       "    <tr>\n",
       "      <th>34299</th>\n",
       "      <td>Zambia</td>\n",
       "      <td>Out-of-school children of primary school age, ...</td>\n",
       "      <td>2018</td>\n",
       "      <td>NaN</td>\n",
       "    </tr>\n",
       "    <tr>\n",
       "      <th>34300</th>\n",
       "      <td>Zimbabwe</td>\n",
       "      <td>Government expenditure on education as % of GD...</td>\n",
       "      <td>2018</td>\n",
       "      <td>5.87135</td>\n",
       "    </tr>\n",
       "    <tr>\n",
       "      <th>34301</th>\n",
       "      <td>Zimbabwe</td>\n",
       "      <td>Gross enrolment ratio, primary, female (%)</td>\n",
       "      <td>2018</td>\n",
       "      <td>NaN</td>\n",
       "    </tr>\n",
       "    <tr>\n",
       "      <th>34302</th>\n",
       "      <td>Zimbabwe</td>\n",
       "      <td>Gross enrolment ratio, primary, gender parity ...</td>\n",
       "      <td>2018</td>\n",
       "      <td>NaN</td>\n",
       "    </tr>\n",
       "    <tr>\n",
       "      <th>34303</th>\n",
       "      <td>Zimbabwe</td>\n",
       "      <td>Out-of-school children of primary school age, ...</td>\n",
       "      <td>2018</td>\n",
       "      <td>NaN</td>\n",
       "    </tr>\n",
       "  </tbody>\n",
       "</table>\n",
       "<p>34304 rows × 4 columns</p>\n",
       "</div>"
      ],
      "text/plain": [
       "           Country                                             Series  Year  \\\n",
       "0      Afghanistan  Government expenditure on education as % of GD...  1987   \n",
       "1      Afghanistan         Gross enrolment ratio, primary, female (%)  1987   \n",
       "2      Afghanistan  Gross enrolment ratio, primary, gender parity ...  1987   \n",
       "3      Afghanistan  Out-of-school children of primary school age, ...  1987   \n",
       "4          Albania  Government expenditure on education as % of GD...  1987   \n",
       "...            ...                                                ...   ...   \n",
       "34299       Zambia  Out-of-school children of primary school age, ...  2018   \n",
       "34300     Zimbabwe  Government expenditure on education as % of GD...  2018   \n",
       "34301     Zimbabwe         Gross enrolment ratio, primary, female (%)  2018   \n",
       "34302     Zimbabwe  Gross enrolment ratio, primary, gender parity ...  2018   \n",
       "34303     Zimbabwe  Out-of-school children of primary school age, ...  2018   \n",
       "\n",
       "         value  \n",
       "0          NaN  \n",
       "1          NaN  \n",
       "2          NaN  \n",
       "3          NaN  \n",
       "4          NaN  \n",
       "...        ...  \n",
       "34299      NaN  \n",
       "34300  5.87135  \n",
       "34301      NaN  \n",
       "34302      NaN  \n",
       "34303      NaN  \n",
       "\n",
       "[34304 rows x 4 columns]"
      ]
     },
     "execution_count": 89,
     "metadata": {},
     "output_type": "execute_result"
    }
   ],
   "source": [
    "df_edu"
   ]
  },
  {
   "cell_type": "code",
   "execution_count": 90,
   "metadata": {},
   "outputs": [],
   "source": [
    "df_temp = df_edu[(df_edu['Country']=='World') & (df_edu['Series']=='Gross enrolment ratio, primary, female (%)')]\n",
    "#df_temp = df_temp[df_temp.Year != 2020]"
   ]
  },
  {
   "cell_type": "code",
   "execution_count": 91,
   "metadata": {
    "scrolled": true
   },
   "outputs": [
    {
     "data": {
      "image/png": "[encoded data removed]",
      "text/plain": [
       "<Figure size 1296x432 with 1 Axes>"
      ]
     },
     "metadata": {
      "needs_background": "light"
     },
     "output_type": "display_data"
    }
   ],
   "source": [
    "plt.figure(figsize=(18,6))\n",
    "sns.lineplot(data=df_temp, x='Year', y='value', markers=True, dashes=False)\n",
    "plt.grid(axis='y')"
   ]
  },
  {
   "cell_type": "markdown",
   "metadata": {},
   "source": [
    "### Nan value's in the dataset\n",
    "Let's look at the amount of nan in the set.  "
   ]
  },
  {
   "cell_type": "code",
   "execution_count": 101,
   "metadata": {},
   "outputs": [
    {
     "name": "stdout",
     "output_type": "stream",
     "text": [
      "empty values in the dataset: 13341\n",
      "% of empty values in the dataset: 38.89\n"
     ]
    }
   ],
   "source": [
    "print('empty values in the dataset: ' + str((df_edu.isna().values.sum())))\n",
    "print('% of empty values in the dataset: ' + str(round((df_edu.isna().values.sum()/len(df_edu)*100),2)))"
   ]
  },
  {
   "cell_type": "markdown",
   "metadata": {},
   "source": [
    "There are 13341 empty values in the value column.  \n",
    "It looks like there is 38.9% data missing.  \n",
    "  \n",
    "Lets look at each missing value per serie"
   ]
  },
  {
   "cell_type": "code",
   "execution_count": 151,
   "metadata": {},
   "outputs": [
    {
     "data": {
      "image/png": "[encoded data removed]",
      "text/plain": [
       "<Figure size 864x432 with 1 Axes>"
      ]
     },
     "metadata": {
      "needs_background": "light"
     },
     "output_type": "display_data"
    }
   ],
   "source": [
    "plt.figure(figsize=(12,6))\n",
    "sns.histplot(data=df_edu[df_edu['value'].isna()], x='Series')\n",
    "plt.xticks(rotation=60)\n",
    "plt.show()"
   ]
  },
  {
   "cell_type": "code",
   "execution_count": 148,
   "metadata": {},
   "outputs": [],
   "source": [
    "df_nan = df_edu[df_edu['value'].isna()].groupby(['Series'])\n",
    "df_nan = df_nan.count()['Country']\n",
    "df_len = len(df_edu[df_edu['value'].isna()])"
   ]
  },
  {
   "cell_type": "markdown",
   "metadata": {},
   "source": [
    "let's see which serie has the most missing data."
   ]
  },
  {
   "cell_type": "code",
   "execution_count": 152,
   "metadata": {},
   "outputs": [
    {
     "data": {
      "text/plain": [
       "Series\n",
       "Government expenditure on education as % of GDP (%)                  38.97\n",
       "Gross enrolment ratio, primary, female (%)                           16.45\n",
       "Gross enrolment ratio, primary, gender parity index (GPI)            16.45\n",
       "Out-of-school children of primary school age, both sexes (number)    28.14\n",
       "Name: Country, dtype: float64"
      ]
     },
     "execution_count": 152,
     "metadata": {},
     "output_type": "execute_result"
    }
   ],
   "source": [
    "round((df_nan/df_len)*100,2)"
   ]
  },
  {
   "cell_type": "markdown",
   "metadata": {},
   "source": [
    "## Third dataset: GDP\n",
    "This dataset shows the GDP per capita per country"
   ]
  },
  {
   "cell_type": "code",
   "execution_count": 62,
   "metadata": {},
   "outputs": [],
   "source": [
    "df_GDP = pd.read_csv('DATA/GDP_PPP.csv', skiprows=4)"
   ]
  },
  {
   "cell_type": "code",
   "execution_count": 63,
   "metadata": {},
   "outputs": [
    {
     "name": "stdout",
     "output_type": "stream",
     "text": [
      "<class 'pandas.core.frame.DataFrame'>\n",
      "RangeIndex: 264 entries, 0 to 263\n",
      "Data columns (total 61 columns):\n",
      " #   Column        Non-Null Count  Dtype  \n",
      "---  ------        --------------  -----  \n",
      " 0   Country       264 non-null    object \n",
      " 1   Country Code  264 non-null    object \n",
      " 2   1960          131 non-null    float64\n",
      " 3   1961          132 non-null    float64\n",
      " 4   1962          135 non-null    float64\n",
      " 5   1963          135 non-null    float64\n",
      " 6   1964          135 non-null    float64\n",
      " 7   1965          144 non-null    float64\n",
      " 8   1966          148 non-null    float64\n",
      " 9   1967          152 non-null    float64\n",
      " 10  1968          156 non-null    float64\n",
      " 11  1969          156 non-null    float64\n",
      " 12  1970          167 non-null    float64\n",
      " 13  1971          168 non-null    float64\n",
      " 14  1972          168 non-null    float64\n",
      " 15  1973          168 non-null    float64\n",
      " 16  1974          169 non-null    float64\n",
      " 17  1975          172 non-null    float64\n",
      " 18  1976          173 non-null    float64\n",
      " 19  1977          176 non-null    float64\n",
      " 20  1978          175 non-null    float64\n",
      " 21  1979          176 non-null    float64\n",
      " 22  1980          187 non-null    float64\n",
      " 23  1981          190 non-null    float64\n",
      " 24  1982          191 non-null    float64\n",
      " 25  1983          192 non-null    float64\n",
      " 26  1984          193 non-null    float64\n",
      " 27  1985          195 non-null    float64\n",
      " 28  1986          197 non-null    float64\n",
      " 29  1987          201 non-null    float64\n",
      " 30  1988          206 non-null    float64\n",
      " 31  1989          206 non-null    float64\n",
      " 32  1990          223 non-null    float64\n",
      " 33  1991          222 non-null    float64\n",
      " 34  1992          222 non-null    float64\n",
      " 35  1993          227 non-null    float64\n",
      " 36  1994          229 non-null    float64\n",
      " 37  1995          236 non-null    float64\n",
      " 38  1996          236 non-null    float64\n",
      " 39  1997          236 non-null    float64\n",
      " 40  1998          238 non-null    float64\n",
      " 41  1999          239 non-null    float64\n",
      " 42  2000          245 non-null    float64\n",
      " 43  2001          245 non-null    float64\n",
      " 44  2002          250 non-null    float64\n",
      " 45  2003          250 non-null    float64\n",
      " 46  2004          251 non-null    float64\n",
      " 47  2005          251 non-null    float64\n",
      " 48  2006          252 non-null    float64\n",
      " 49  2007          252 non-null    float64\n",
      " 50  2008          251 non-null    float64\n",
      " 51  2009          251 non-null    float64\n",
      " 52  2010          252 non-null    float64\n",
      " 53  2011          254 non-null    float64\n",
      " 54  2012          253 non-null    float64\n",
      " 55  2013          253 non-null    float64\n",
      " 56  2014          253 non-null    float64\n",
      " 57  2015          252 non-null    float64\n",
      " 58  2016          251 non-null    float64\n",
      " 59  2017          251 non-null    float64\n",
      " 60  2018          249 non-null    float64\n",
      "dtypes: float64(59), object(2)\n",
      "memory usage: 125.9+ KB\n"
     ]
    }
   ],
   "source": [
    "df_GDP.drop(['Indicator Name', 'Indicator Code', '2019', \"2020\"], axis=1, inplace=True)\n",
    "df_GDP.rename(columns={'Country Name': 'Country'}, inplace=True)\n",
    "df_GDP.info()"
   ]
  },
  {
   "cell_type": "code",
   "execution_count": 64,
   "metadata": {},
   "outputs": [
    {
     "data": {
      "text/html": [
       "<div>\n",
       "<style scoped>\n",
       "    .dataframe tbody tr th:only-of-type {\n",
       "        vertical-align: middle;\n",
       "    }\n",
       "\n",
       "    .dataframe tbody tr th {\n",
       "        vertical-align: top;\n",
       "    }\n",
       "\n",
       "    .dataframe thead th {\n",
       "        text-align: right;\n",
       "    }\n",
       "</style>\n",
       "<table border=\"1\" class=\"dataframe\">\n",
       "  <thead>\n",
       "    <tr style=\"text-align: right;\">\n",
       "      <th></th>\n",
       "      <th>Country</th>\n",
       "      <th>Country Code</th>\n",
       "      <th>1960</th>\n",
       "      <th>1961</th>\n",
       "      <th>1962</th>\n",
       "      <th>1963</th>\n",
       "      <th>1964</th>\n",
       "      <th>1965</th>\n",
       "      <th>1966</th>\n",
       "      <th>1967</th>\n",
       "      <th>...</th>\n",
       "      <th>2009</th>\n",
       "      <th>2010</th>\n",
       "      <th>2011</th>\n",
       "      <th>2012</th>\n",
       "      <th>2013</th>\n",
       "      <th>2014</th>\n",
       "      <th>2015</th>\n",
       "      <th>2016</th>\n",
       "      <th>2017</th>\n",
       "      <th>2018</th>\n",
       "    </tr>\n",
       "  </thead>\n",
       "  <tbody>\n",
       "    <tr>\n",
       "      <th>0</th>\n",
       "      <td>Aruba</td>\n",
       "      <td>ABW</td>\n",
       "      <td>NaN</td>\n",
       "      <td>NaN</td>\n",
       "      <td>NaN</td>\n",
       "      <td>NaN</td>\n",
       "      <td>NaN</td>\n",
       "      <td>NaN</td>\n",
       "      <td>NaN</td>\n",
       "      <td>NaN</td>\n",
       "      <td>...</td>\n",
       "      <td>24630.453710</td>\n",
       "      <td>23512.602600</td>\n",
       "      <td>24985.993280</td>\n",
       "      <td>24713.698050</td>\n",
       "      <td>26189.435510</td>\n",
       "      <td>26647.938100</td>\n",
       "      <td>27980.880700</td>\n",
       "      <td>28281.350480</td>\n",
       "      <td>29007.693000</td>\n",
       "      <td>NaN</td>\n",
       "    </tr>\n",
       "    <tr>\n",
       "      <th>1</th>\n",
       "      <td>Afghanistan</td>\n",
       "      <td>AFG</td>\n",
       "      <td>59.773194</td>\n",
       "      <td>59.860874</td>\n",
       "      <td>58.458015</td>\n",
       "      <td>78.706388</td>\n",
       "      <td>82.095231</td>\n",
       "      <td>101.108305</td>\n",
       "      <td>137.594352</td>\n",
       "      <td>160.898589</td>\n",
       "      <td>...</td>\n",
       "      <td>438.076034</td>\n",
       "      <td>543.303042</td>\n",
       "      <td>591.162759</td>\n",
       "      <td>641.871479</td>\n",
       "      <td>637.165523</td>\n",
       "      <td>613.856689</td>\n",
       "      <td>578.466353</td>\n",
       "      <td>509.218661</td>\n",
       "      <td>519.884773</td>\n",
       "      <td>493.750418</td>\n",
       "    </tr>\n",
       "    <tr>\n",
       "      <th>2</th>\n",
       "      <td>Angola</td>\n",
       "      <td>AGO</td>\n",
       "      <td>NaN</td>\n",
       "      <td>NaN</td>\n",
       "      <td>NaN</td>\n",
       "      <td>NaN</td>\n",
       "      <td>NaN</td>\n",
       "      <td>NaN</td>\n",
       "      <td>NaN</td>\n",
       "      <td>NaN</td>\n",
       "      <td>...</td>\n",
       "      <td>3122.780766</td>\n",
       "      <td>3587.883798</td>\n",
       "      <td>4615.468028</td>\n",
       "      <td>5100.095808</td>\n",
       "      <td>5254.882338</td>\n",
       "      <td>5408.410496</td>\n",
       "      <td>4166.979684</td>\n",
       "      <td>3506.072885</td>\n",
       "      <td>4095.812942</td>\n",
       "      <td>3289.646664</td>\n",
       "    </tr>\n",
       "    <tr>\n",
       "      <th>3</th>\n",
       "      <td>Albania</td>\n",
       "      <td>ALB</td>\n",
       "      <td>NaN</td>\n",
       "      <td>NaN</td>\n",
       "      <td>NaN</td>\n",
       "      <td>NaN</td>\n",
       "      <td>NaN</td>\n",
       "      <td>NaN</td>\n",
       "      <td>NaN</td>\n",
       "      <td>NaN</td>\n",
       "      <td>...</td>\n",
       "      <td>4114.140114</td>\n",
       "      <td>4094.350334</td>\n",
       "      <td>4437.142885</td>\n",
       "      <td>4247.629984</td>\n",
       "      <td>4413.060861</td>\n",
       "      <td>4578.631994</td>\n",
       "      <td>3952.801215</td>\n",
       "      <td>4124.055726</td>\n",
       "      <td>4531.020806</td>\n",
       "      <td>5284.380184</td>\n",
       "    </tr>\n",
       "    <tr>\n",
       "      <th>4</th>\n",
       "      <td>Andorra</td>\n",
       "      <td>AND</td>\n",
       "      <td>NaN</td>\n",
       "      <td>NaN</td>\n",
       "      <td>NaN</td>\n",
       "      <td>NaN</td>\n",
       "      <td>NaN</td>\n",
       "      <td>NaN</td>\n",
       "      <td>NaN</td>\n",
       "      <td>NaN</td>\n",
       "      <td>...</td>\n",
       "      <td>43503.185520</td>\n",
       "      <td>40852.666780</td>\n",
       "      <td>43335.328860</td>\n",
       "      <td>38686.461260</td>\n",
       "      <td>39538.766720</td>\n",
       "      <td>41303.929370</td>\n",
       "      <td>35762.523070</td>\n",
       "      <td>37474.665410</td>\n",
       "      <td>38962.880350</td>\n",
       "      <td>41793.055260</td>\n",
       "    </tr>\n",
       "  </tbody>\n",
       "</table>\n",
       "<p>5 rows × 61 columns</p>\n",
       "</div>"
      ],
      "text/plain": [
       "       Country Country Code       1960       1961       1962       1963  \\\n",
       "0        Aruba          ABW        NaN        NaN        NaN        NaN   \n",
       "1  Afghanistan          AFG  59.773194  59.860874  58.458015  78.706388   \n",
       "2       Angola          AGO        NaN        NaN        NaN        NaN   \n",
       "3      Albania          ALB        NaN        NaN        NaN        NaN   \n",
       "4      Andorra          AND        NaN        NaN        NaN        NaN   \n",
       "\n",
       "        1964        1965        1966        1967  ...          2009  \\\n",
       "0        NaN         NaN         NaN         NaN  ...  24630.453710   \n",
       "1  82.095231  101.108305  137.594352  160.898589  ...    438.076034   \n",
       "2        NaN         NaN         NaN         NaN  ...   3122.780766   \n",
       "3        NaN         NaN         NaN         NaN  ...   4114.140114   \n",
       "4        NaN         NaN         NaN         NaN  ...  43503.185520   \n",
       "\n",
       "           2010          2011          2012          2013          2014  \\\n",
       "0  23512.602600  24985.993280  24713.698050  26189.435510  26647.938100   \n",
       "1    543.303042    591.162759    641.871479    637.165523    613.856689   \n",
       "2   3587.883798   4615.468028   5100.095808   5254.882338   5408.410496   \n",
       "3   4094.350334   4437.142885   4247.629984   4413.060861   4578.631994   \n",
       "4  40852.666780  43335.328860  38686.461260  39538.766720  41303.929370   \n",
       "\n",
       "           2015          2016          2017          2018  \n",
       "0  27980.880700  28281.350480  29007.693000           NaN  \n",
       "1    578.466353    509.218661    519.884773    493.750418  \n",
       "2   4166.979684   3506.072885   4095.812942   3289.646664  \n",
       "3   3952.801215   4124.055726   4531.020806   5284.380184  \n",
       "4  35762.523070  37474.665410  38962.880350  41793.055260  \n",
       "\n",
       "[5 rows x 61 columns]"
      ]
     },
     "execution_count": 64,
     "metadata": {},
     "output_type": "execute_result"
    }
   ],
   "source": [
    "df_GDP.head()"
   ]
  },
  {
   "cell_type": "code",
   "execution_count": 65,
   "metadata": {},
   "outputs": [
    {
     "name": "stdout",
     "output_type": "stream",
     "text": [
      "<class 'pandas.core.frame.DataFrame'>\n",
      "RangeIndex: 15576 entries, 0 to 15575\n",
      "Data columns (total 4 columns):\n",
      " #   Column        Non-Null Count  Dtype  \n",
      "---  ------        --------------  -----  \n",
      " 0   Country       15576 non-null  object \n",
      " 1   Country Code  15576 non-null  object \n",
      " 2   Year          15576 non-null  object \n",
      " 3   GDP           12168 non-null  float64\n",
      "dtypes: float64(1), object(3)\n",
      "memory usage: 486.9+ KB\n"
     ]
    }
   ],
   "source": [
    "df_GDP = df_GDP.melt(id_vars=[\"Country\", 'Country Code'], value_vars=['1960','1961','1962','1963','1964','1965',\n",
    " '1966','1967','1968','1969','1970', '1971', '1972', '1973', '1974', '1975', '1976', '1977', '1978', '1979', '1980',\n",
    " '1981', '1982', '1983', '1984', '1985', '1986', '1987', '1988', '1989', '1990', '1991', '1992', '1993', '1994', '1995', '1996',\n",
    " '1997', '1998', '1999', '2000', '2001', '2002', '2003', '2004', '2005', '2006', '2007', '2008', '2009', '2010', '2011', '2012',\n",
    " '2013', '2014', '2015', '2016', '2017', '2018'])\n",
    "df_GDP.rename(columns={'variable': 'Year', 'value': 'GDP'}, inplace=True)\n",
    "df_GDP.info()"
   ]
  },
  {
   "cell_type": "code",
   "execution_count": 66,
   "metadata": {},
   "outputs": [],
   "source": [
    "data=df_GDP[df_GDP['Country']=='World']"
   ]
  },
  {
   "cell_type": "code",
   "execution_count": 67,
   "metadata": {},
   "outputs": [
    {
     "data": {
      "image/png": "[encoded data removed]",
      "text/plain": [
       "<Figure size 1080x576 with 1 Axes>"
      ]
     },
     "metadata": {
      "needs_background": "light"
     },
     "output_type": "display_data"
    }
   ],
   "source": [
    "plt.figure(figsize=(15,8))\n",
    "sns.barplot(data=data, x='Year', y='GDP')\n",
    "plt.xticks(rotation=90)\n",
    "plt.grid(axis='y')\n",
    "plt.show()"
   ]
  },
  {
   "cell_type": "markdown",
   "metadata": {},
   "source": [
    "### Nan value's in the dataset\n",
    "Let's look at the amount of nan in the set.\n",
    "It looks like there is 21.9% data missing."
   ]
  },
  {
   "cell_type": "code",
   "execution_count": 68,
   "metadata": {},
   "outputs": [
    {
     "data": {
      "text/plain": [
       "21.879815100154083"
      ]
     },
     "execution_count": 68,
     "metadata": {},
     "output_type": "execute_result"
    }
   ],
   "source": [
    "df_GDP.isna().sum()['GDP']/len(df_GDP)*100"
   ]
  },
  {
   "cell_type": "code",
   "execution_count": null,
   "metadata": {},
   "outputs": [],
   "source": []
  },
  {
   "cell_type": "code",
   "execution_count": null,
   "metadata": {},
   "outputs": [],
   "source": []
  },
  {
   "cell_type": "code",
   "execution_count": null,
   "metadata": {},
   "outputs": [],
   "source": []
  }
 ],
 "metadata": {
  "kernelspec": {
   "display_name": "Python 3",
   "language": "python",
   "name": "python3"
  },
  "language_info": {
   "codemirror_mode": {
    "name": "ipython",
    "version": 3
   },
   "file_extension": ".py",
   "mimetype": "text/x-python",
   "name": "python",
   "nbconvert_exporter": "python",
   "pygments_lexer": "ipython3",
   "version": "3.7.9"
  }
 },
 "nbformat": 4,
 "nbformat_minor": 4
}
